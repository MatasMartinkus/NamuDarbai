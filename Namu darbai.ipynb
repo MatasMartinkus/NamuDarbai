{
 "cells": [
  {
   "cell_type": "code",
   "execution_count": 7,
   "metadata": {},
   "outputs": [
    {
     "name": "stdout",
     "output_type": "stream",
     "text": [
      "Jūsų balsas svarbus, net jei jūs dinozauras.\n"
     ]
    }
   ],
   "source": [
    "##1. Parašykite funkciją check_voting_age, kuri įvestų vartotojo amžių ir grąžintų pranešimą, kuriame būtų nurodyta, ar vartotojas turi teisę balsuoti (18 metų ar vyresnis), ar ne.\n",
    "\n",
    "def check_voting_age(your_age:int) -> str:\n",
    "    if your_age >= 120:\n",
    "        return \"Jūsų balsas svarbus, net jei jūs dinozauras.\"\n",
    "    elif your_age >= 18:\n",
    "        return \"Esate pilnametis, turite teisę balsuoti.\"\n",
    "    elif your_age < 18:\n",
    "        liko_metu = 18 - your_age\n",
    "        return f\"Esate nepilnametis, balsuoti galėsite už {18 - your_age} metų\"\n",
    "    elif your_age <= 0:\n",
    "        return f\"Jūs dar nesate gimęs arba esate naujagimis. Balsuoti teisės neturite\"\n",
    "    \n",
    "\n",
    "while True:\n",
    "\n",
    "    try:\n",
    "        print(check_voting_age(int(input(\"Iveskite savo amziu\"))))\n",
    "    except ValueError:\n",
    "        print(f\"Klaida. Iveskite savo metus skaitmenimis.\")\n",
    "    else:\n",
    "        break\n"
   ]
  },
  {
   "cell_type": "code",
   "execution_count": 24,
   "metadata": {},
   "outputs": [
    {
     "name": "stdout",
     "output_type": "stream",
     "text": [
      "Failas sukurtas\n",
      "27\n"
     ]
    }
   ],
   "source": [
    "## 2. Parašykite funkciją sum_numbers_from_file, kuri iš tekstinio failo, pavadinto \"numbers.txt\", nuskaito skaičių sąrašą ir grąžina šių skaičių sumą.\n",
    "import random\n",
    "SKAICIAI = []\n",
    "\n",
    "def create_numbers_list():\n",
    "    for step in range(10):\n",
    "        SKAICIAI.append(random.randint(0, 10))\n",
    "\n",
    "def create_file():\n",
    "    with open(\"numbers.txt\", \"w\") as f:\n",
    "        print(\"Failas sukurtas\")\n",
    "\n",
    "def update_file():\n",
    "        with open(\"numbers.txt\", \"w\") as f:\n",
    "            for num in SKAICIAI:\n",
    "                f.write(str(num))\n",
    "   \n",
    "\n",
    "def sum_numbers_from_file(filename:str) -> int:\n",
    "    sum = 0\n",
    "    with open(\"numbers.txt\", \"r\") as f:\n",
    "        d = f.read()\n",
    "        for num in d:\n",
    "            sum += int(num)\n",
    "    return sum\n",
    "\n",
    "create_numbers_list()\n",
    "create_file()\n",
    "update_file()\n",
    "\n",
    "print(sum_numbers_from_file(\"numbers.txt\"))\n"
   ]
  },
  {
   "cell_type": "code",
   "execution_count": 26,
   "metadata": {},
   "outputs": [
    {
     "name": "stdout",
     "output_type": "stream",
     "text": [
      "failas sukurtas\n",
      "Naudotojo vardas pridetas\n"
     ]
    }
   ],
   "source": [
    "## 3. Sukurkite funkciją, pavadintą write_name_to_file, kuri kaip įvestį paima naudotojo vardą ir įrašo jį į tekstinį failą, pavadintą \"names.txt\", neperrašydama jau esamo turinio.\n",
    "def create_file():\n",
    "    with open(\"names.txt\", \"w\"):\n",
    "        print(\"failas sukurtas\")\n",
    "\n",
    "def write_name_to_file(username:str):\n",
    "    with open(\"names.txt\", \"a\") as f:\n",
    "        f.write(username)\n",
    "    print(\"Naudotojo vardas pridetas\")\n",
    "\n",
    "create_file()\n",
    "write_name_to_file(input(\"Iveskite naudotojo vardą\"))\n"
   ]
  },
  {
   "cell_type": "code",
   "execution_count": 28,
   "metadata": {},
   "outputs": [
    {
     "name": "stdout",
     "output_type": "stream",
     "text": [
      "Json sukurtas\n",
      "8.0\n"
     ]
    }
   ],
   "source": [
    "# 4. Parašykite funkciją \"calculate_average_score\", kuri nuskaito JSON failą \"data.json\", kuriame yra mokinių vardai ir jų balai. Apskaičiuokite ir grąžinkite visų mokinių balų vidurkį.\n",
    "import json\n",
    "\n",
    "MOKINIU_DATA = {\"Matas\": 10,\n",
    "                \"Jonas\":9,\n",
    "                \"Romas\":8,\n",
    "                \"Albertas\":7,\n",
    "                \"Rusnė\":6}\n",
    "\n",
    "def create_json(filename):\n",
    "    with open(filename, \"w\") as f:\n",
    "        json.dump(MOKINIU_DATA, f)\n",
    "    print(\"Json sukurtas\")\n",
    "\n",
    "def calculate_average_score(filename):\n",
    "    sum = 0\n",
    "    with open(filename, \"r\") as f:\n",
    "        students = json.load(f)\n",
    "        for student in students:\n",
    "            sum += students[student]\n",
    "    return sum / len(students)\n",
    "\n",
    "create_json(\"data.json\")\n",
    "print(calculate_average_score(\"data.json\"))\n"
   ]
  },
  {
   "cell_type": "code",
   "execution_count": 55,
   "metadata": {},
   "outputs": [
    {
     "name": "stdout",
     "output_type": "stream",
     "text": [
      "Failas sukurtas\n",
      "['86', '8', '81', '31', '72', '89', '1', '92', '78', '0']\n",
      "Duomenys json faile squares.json\n"
     ]
    }
   ],
   "source": [
    "# 5. Parašykite funkciją process_numbers, kuri iš \"input.txt\" nuskaito skaičius, \n",
    "# apskaičiuoja jų kvadratus naudojant kitą funkciją calculate_square ir rezultatus įrašo į naują JSON failą \"squares.json\" formatu {\"number\": x, \"square\": y}.\n",
    "import math\n",
    "import json\n",
    "SQUARES = {}\n",
    "\n",
    "def create_input_file():\n",
    "    with open(\"input.txt\", \"w\") as f:\n",
    "        for step in range(0, 10):\n",
    "            if step == 9:\n",
    "                f.write(f\"{str(random.randint(0, 100))}\")\n",
    "            else:\n",
    "                f.write(f\"{str(random.randint(0, 100))} \")\n",
    "\n",
    "    print(\"Failas sukurtas\")\n",
    "\n",
    "def calculate_numbers(numbers):\n",
    "    count = 0\n",
    "    for num in numbers:\n",
    "        SQUARES.update({count:{\"number\": num, \"square\":math.pow(int(num), 2)}})\n",
    "        count += 1\n",
    "        \n",
    "\n",
    "def process_numbers(filename:str):\n",
    "    with open(filename, \"r\") as f:\n",
    "        d = f.read()\n",
    "        d = d.split(\" \")\n",
    "        \n",
    "        print(d)\n",
    "    calculate_numbers(d)\n",
    "    with open(\"squares.json\", \"w\") as f:\n",
    "         json.dump(SQUARES, f)\n",
    "    print(\"Duomenys json faile squares.json\")\n",
    "\n",
    "create_input_file()\n",
    "process_numbers(\"input.txt\")\n",
    "        \n",
    "        \n",
    "\n"
   ]
  },
  {
   "cell_type": "code",
   "execution_count": 56,
   "metadata": {},
   "outputs": [
    {
     "name": "stdout",
     "output_type": "stream",
     "text": [
      "2\n"
     ]
    }
   ],
   "source": [
    "# 6. Parašykite funkciją count_vowels, kuri kaip įvestį priima eilutę ir grąžina eilutėje esančių balsių (a, e, i, o, u, y) skaičių.\n",
    "\n",
    "BALSES = [\"a\", \"e\", \"i\", \"o\", \"u\", \"y\"]\n",
    "\n",
    "def count_vowels(eilute:str) -> int:\n",
    "    vowel_count = 0\n",
    "    for char in eilute:\n",
    "        if char in BALSES:\n",
    "            vowel_count += 1\n",
    "    return vowel_count\n",
    "\n",
    "print(count_vowels(input(\"Įveskite tekstą.\")))\n"
   ]
  },
  {
   "cell_type": "code",
   "execution_count": 59,
   "metadata": {},
   "outputs": [
    {
     "data": {
      "text/plain": [
       "{'vienas': '1', 'du': '2', 'trys': '3'}"
      ]
     },
     "execution_count": 59,
     "metadata": {},
     "output_type": "execute_result"
    }
   ],
   "source": [
    "# 7. Sukurkite funkciją, pavadintą atvirkštinis_žodynas, kuri priima žodyną kaip įvestį ir grąžina naują žodyną, kurio raktai ir reikšmės sukeisti vietomis.\n",
    "MY_DICT = {\"1\": \"vienas\",\n",
    "        \"2\": \"du\",\n",
    "        \"3\": \"trys\"}\n",
    "\n",
    "def atvirkstinis_zodynas(dict:dict) -> dict:\n",
    "    reversed_dict = {}\n",
    "    for key in MY_DICT:\n",
    "        reversed_dict.update({MY_DICT[key]:key})\n",
    "    return reversed_dict\n",
    "\n",
    "atvirkstinis_zodynas(MY_DICT)\n"
   ]
  },
  {
   "cell_type": "code",
   "execution_count": 93,
   "metadata": {},
   "outputs": [
    {
     "name": "stdout",
     "output_type": "stream",
     "text": [
      "[4, 20, 96, 85, 17, 5, 45, 60, 10, 77]\n"
     ]
    },
    {
     "data": {
      "text/plain": [
       "(41.9, 45.0, None)"
      ]
     },
     "execution_count": 93,
     "metadata": {},
     "output_type": "execute_result"
    }
   ],
   "source": [
    "# 8. Sukurkite funkciją analyze_data, kuri kaip įvestį priima skaičių sąrašą, apskaičiuoja ir grąžina skaičių vidurkį, medianą ir modą.\n",
    "def create_numbers_list():\n",
    "    numbers_list = []\n",
    "    for step in range(10):\n",
    "        numbers_list.append(random.randint(0, 100))\n",
    "    print(numbers_list)   \n",
    "    return numbers_list\n",
    "\n",
    "def analyze_data(numbers_list:list):\n",
    "    sum = 0\n",
    "    counter = 0\n",
    "    numbers_list = sorted(numbers_list)\n",
    "    for num in numbers_list:\n",
    "        sum += num\n",
    "    average = sum / len(numbers_list)\n",
    "    if len(numbers_list) % 2 == 0:\n",
    "        mediana = ((numbers_list[int(len(numbers_list) / 2)] + numbers_list[int(len(numbers_list) / 2 )]) / 2)\n",
    "    else:\n",
    "        mediana = numbers_list[len(numbers_list) / 2]\n",
    "    for num in numbers_list:\n",
    "        current_freq = numbers_list.count(num)\n",
    "        if current_freq > counter:\n",
    "            counter = current_freq\n",
    "            highest = num\n",
    "            \n",
    "    moda = highest\n",
    "    if counter == 1:\n",
    "        moda = None\n",
    "\n",
    "    return average, mediana, moda\n",
    "\n",
    "analyze_data(create_numbers_list())"
   ]
  },
  {
   "cell_type": "code",
   "execution_count": 97,
   "metadata": {},
   "outputs": [
    {
     "data": {
      "text/plain": [
       "'Iveskite sveiką skaičių'"
      ]
     },
     "execution_count": 97,
     "metadata": {},
     "output_type": "execute_result"
    }
   ],
   "source": [
    "# 9. Parašykite programą, kuri prašo naudotojo įvesti sveikąjį skaičių ir apdoroja ValueError klaidą naudodama try-except bloką, ragindama naudotoją įvesti sveikąjį skaičių.\n",
    "\n",
    "def catch_error() -> int:\n",
    "    try:\n",
    "        int(input(\"Iveskite sveiką skaičių\"))\n",
    "    except ValueError:\n",
    "        return \"Iveskite sveiką skaičių\"\n",
    "\n",
    "catch_error()"
   ]
  },
  {
   "cell_type": "code",
   "execution_count": 102,
   "metadata": {},
   "outputs": [
    {
     "name": "stdout",
     "output_type": "stream",
     "text": [
      "Skaicius veskite skaitmenimis\n"
     ]
    }
   ],
   "source": [
    "# 10. Sukurkite programą, kuri iš naudotojo kaip įvestį priima du skaičius ir atlieka matematinį veiksmą (dalybą arba daugybą). Naudokite try-except blokus,\n",
    "# kad apdorotumėte galimas išimtis, pavyzdžiui, ValueError, ZeroDivisionError arba TypeError, kurios gali atsirasti operacijos metu.\n",
    "\n",
    "def matematinis_veiksmas(a, b, op):\n",
    "    try:\n",
    "        a = int(a)\n",
    "        b = int(b)\n",
    "        if op == \"*\":\n",
    "            return a * b\n",
    "        elif op == \"/\":\n",
    "            return a / b\n",
    "    except ValueError:\n",
    "        print(\"Skaicius veskite skaitmenimis\")\n",
    "    except ZeroDivisionError:\n",
    "        print(\"dalyba is nulio negalima\")\n",
    "    except TypeError:\n",
    "        print(\"operacijos atlikti neimanoma\")\n",
    "\n",
    "matematinis_veiksmas(input(\"1 skaicius\"), input(\"2 skaicius\"), input(\"dalyba rasykite /, daugyba rasykite *\"))"
   ]
  }
 ],
 "metadata": {
  "kernelspec": {
   "display_name": "Python 3",
   "language": "python",
   "name": "python3"
  },
  "language_info": {
   "codemirror_mode": {
    "name": "ipython",
    "version": 3
   },
   "file_extension": ".py",
   "mimetype": "text/x-python",
   "name": "python",
   "nbconvert_exporter": "python",
   "pygments_lexer": "ipython3",
   "version": "3.11.9"
  }
 },
 "nbformat": 4,
 "nbformat_minor": 2
}
